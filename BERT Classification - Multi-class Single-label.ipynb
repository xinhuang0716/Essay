{
 "cells": [
  {
   "cell_type": "markdown",
   "id": "dacff729",
   "metadata": {},
   "source": [
    "- Reference<br>\n",
    "Medium - Multi-label Text Classification with BERT using Pytorch<br>\n",
    "https://kyawkhaung.medium.com/multi-label-text-classification-with-bert-using-pytorch-47011a7313b9<br>\n",
    "Kaggle - Multi Label Image Classification<br>\n",
    "https://www.kaggle.com/code/boascent/multi-label-image-classification-pytorch-gpu/notebook<br>"
   ]
  },
  {
   "cell_type": "markdown",
   "id": "726a0b8b",
   "metadata": {},
   "source": [
    "- Import Module"
   ]
  },
  {
   "cell_type": "code",
   "execution_count": 1,
   "id": "7d783a02",
   "metadata": {},
   "outputs": [
    {
     "name": "stdout",
     "output_type": "stream",
     "text": [
      "Is CUDA available ? True\n"
     ]
    }
   ],
   "source": [
    "# torch/BERT\n",
    "import torch, torch.nn as nn\n",
    "from torch.utils.data import TensorDataset, DataLoader\n",
    "from transformers import BertModel, BertTokenizer\n",
    "\n",
    "# evaluation matrix\n",
    "from sklearn.metrics import accuracy_score, confusion_matrix\n",
    "from sklearn.metrics import precision_score, recall_score, f1_score\n",
    "\n",
    "# basic package\n",
    "from sklearn.model_selection import train_test_split\n",
    "import numpy as np, pandas as pd, random\n",
    "import matplotlib.pyplot as plt\n",
    "import seaborn as sn\n",
    "from IPython.display import clear_output\n",
    "import warnings\n",
    "warnings.filterwarnings('ignore')\n",
    "\n",
    "# check CUDA(GPU)\n",
    "print('Is CUDA available ?',torch.cuda.is_available())\n",
    "device = torch.device('cuda:0')\n",
    "\n",
    "# reproducibility\n",
    "SEED = 42\n",
    "torch.manual_seed(SEED)\n",
    "torch.cuda.manual_seed(SEED)\n",
    "torch.cuda.manual_seed_all(SEED)\n",
    "np.random.seed(SEED)\n",
    "random.seed(SEED)\n",
    "torch.backends.cudnn.benchmark = False\n",
    "torch.backends.cudnn.deterministic = True"
   ]
  },
  {
   "cell_type": "markdown",
   "id": "c9f80583",
   "metadata": {},
   "source": [
    "- Dataset"
   ]
  },
  {
   "cell_type": "code",
   "execution_count": 2,
   "id": "3c3f722d",
   "metadata": {},
   "outputs": [
    {
     "name": "stdout",
     "output_type": "stream",
     "text": [
      "(700, 7)\n"
     ]
    },
    {
     "data": {
      "text/html": [
       "<div>\n",
       "<style scoped>\n",
       "    .dataframe tbody tr th:only-of-type {\n",
       "        vertical-align: middle;\n",
       "    }\n",
       "\n",
       "    .dataframe tbody tr th {\n",
       "        vertical-align: top;\n",
       "    }\n",
       "\n",
       "    .dataframe thead th {\n",
       "        text-align: right;\n",
       "    }\n",
       "</style>\n",
       "<table border=\"1\" class=\"dataframe\">\n",
       "  <thead>\n",
       "    <tr style=\"text-align: right;\">\n",
       "      <th></th>\n",
       "      <th>Not helpful</th>\n",
       "      <th>Suggestion</th>\n",
       "      <th>Pro</th>\n",
       "      <th>Con</th>\n",
       "      <th>Bug</th>\n",
       "    </tr>\n",
       "    <tr>\n",
       "      <th>game</th>\n",
       "      <th></th>\n",
       "      <th></th>\n",
       "      <th></th>\n",
       "      <th></th>\n",
       "      <th></th>\n",
       "    </tr>\n",
       "  </thead>\n",
       "  <tbody>\n",
       "    <tr>\n",
       "      <th>Brotato</th>\n",
       "      <td>27</td>\n",
       "      <td>36</td>\n",
       "      <td>37</td>\n",
       "      <td>7</td>\n",
       "      <td>7</td>\n",
       "    </tr>\n",
       "    <tr>\n",
       "      <th>Cult of the Lamb</th>\n",
       "      <td>25</td>\n",
       "      <td>16</td>\n",
       "      <td>39</td>\n",
       "      <td>13</td>\n",
       "      <td>22</td>\n",
       "    </tr>\n",
       "    <tr>\n",
       "      <th>Mount &amp; Blade 2 - Bannerlord</th>\n",
       "      <td>45</td>\n",
       "      <td>44</td>\n",
       "      <td>23</td>\n",
       "      <td>18</td>\n",
       "      <td>12</td>\n",
       "    </tr>\n",
       "    <tr>\n",
       "      <th>Teardown</th>\n",
       "      <td>26</td>\n",
       "      <td>19</td>\n",
       "      <td>27</td>\n",
       "      <td>19</td>\n",
       "      <td>21</td>\n",
       "    </tr>\n",
       "    <tr>\n",
       "      <th>Warhammer 40,000 - Darktide</th>\n",
       "      <td>17</td>\n",
       "      <td>25</td>\n",
       "      <td>14</td>\n",
       "      <td>83</td>\n",
       "      <td>78</td>\n",
       "    </tr>\n",
       "  </tbody>\n",
       "</table>\n",
       "</div>"
      ],
      "text/plain": [
       "                              Not helpful  Suggestion  Pro  Con  Bug\n",
       "game                                                                \n",
       "Brotato                                27          36   37    7    7\n",
       "Cult of the Lamb                       25          16   39   13   22\n",
       "Mount & Blade 2 - Bannerlord           45          44   23   18   12\n",
       "Teardown                               26          19   27   19   21\n",
       "Warhammer 40,000 - Darktide            17          25   14   83   78"
      ]
     },
     "metadata": {},
     "output_type": "display_data"
    }
   ],
   "source": [
    "# read review datasets \n",
    "def READ(game_name):\n",
    "    temp = pd.read_excel(f'data_cleaned\\\\labeled data\\\\{game_name}.xlsx')[:1000]\n",
    "    temp['game'] = game_name\n",
    "    return temp[temp.check == 1]\n",
    "\n",
    "# combine datasets\n",
    "game_list = ['Warhammer 40,000 - Darktide','Brotato','Cult of the Lamb','Teardown','Mount & Blade 2 - Bannerlord']\n",
    "df_train = pd.concat([READ(game) for game in game_list])\n",
    "df_train = df_train[df_train.Spam == 0] # drop spam review\n",
    "df_train.drop(columns = ['Spam', 'date', 'helpful_votes', 'check'], inplace = True) # drop unneccessary column\n",
    "df_train.dropna(inplace = True)\n",
    "\n",
    "# sampe \n",
    "def SAMPLE(i, df = df_train, seed = SEED):\n",
    "    tag_list = ['Not helpful','Suggestion','Pro','Con','Bug']\n",
    "    return df[df[tag_list[i]]==1].sample(n = 140, random_state = seed)\n",
    "df_train = pd.concat([SAMPLE(0), SAMPLE(1), SAMPLE(2), SAMPLE(3), SAMPLE(4)])\n",
    "print(df_train.shape)\n",
    "\n",
    "# label distribution of each game after ramdom sample\n",
    "display(df_train.groupby(['game']).sum())"
   ]
  },
  {
   "cell_type": "markdown",
   "id": "be192e04",
   "metadata": {},
   "source": [
    "- Model"
   ]
  },
  {
   "cell_type": "code",
   "execution_count": 3,
   "id": "ac1c47a0",
   "metadata": {},
   "outputs": [],
   "source": [
    "# tokenization(return token_id and attention_mask)\n",
    "tokenizer = BertTokenizer.from_pretrained('bert-base-uncased', do_lower_case = True)\n",
    "def tokenization(sentences):\n",
    "    input_ids, attention_masks = [], []\n",
    "    for text in sentences:        \n",
    "        encoded_dict = tokenizer.encode_plus(text, add_special_tokens = True,\n",
    "                                             max_length = 150, pad_to_max_length = True,\n",
    "                                             return_attention_mask = True, return_tensors = 'pt')  \n",
    "        input_ids.append(encoded_dict['input_ids'])     \n",
    "        attention_masks.append(encoded_dict['attention_mask'])\n",
    "    return torch.cat(input_ids, dim = 0).to(device), torch.cat(attention_masks, dim = 0).to(device)"
   ]
  },
  {
   "cell_type": "code",
   "execution_count": 5,
   "id": "b8dce2c6",
   "metadata": {},
   "outputs": [],
   "source": [
    "# hyperparameters\n",
    "num_epochs = 12\n",
    "batch_size = 20\n",
    "learning_rate = 0.0001\n",
    "Labels_list = ['Not helpful','Suggestion','Pro','Con','Bug']\n",
    "num_class = len(Labels_list)\n",
    "\n",
    "# neural network\n",
    "class BertClassifier(nn.Module):\n",
    "    def __init__(self, num_class):\n",
    "        super(BertClassifier, self).__init__()\n",
    "        self.bert = BertModel.from_pretrained('bert-base-uncased')\n",
    "        self.linear1 = nn.Linear(self.bert.config.hidden_size, 64)\n",
    "        self.linear2 = nn.Linear(64, num_class)\n",
    "        self.elu = nn.ELU(inplace = True)\n",
    "        \n",
    "    def forward(self, ids, mask):\n",
    "        output = self.bert(input_ids = ids, attention_mask = mask)\n",
    "        output = self.linear1(output[1])\n",
    "        return self.linear2(output)"
   ]
  },
  {
   "cell_type": "markdown",
   "id": "8cd48906",
   "metadata": {},
   "source": [
    "- Model training"
   ]
  },
  {
   "cell_type": "code",
   "execution_count": 6,
   "id": "8d50adff",
   "metadata": {},
   "outputs": [
    {
     "name": "stdout",
     "output_type": "stream",
     "text": [
      "Epoch [12/12], Loss: 0.05841593793686481\n"
     ]
    }
   ],
   "source": [
    "# split to training and testing\n",
    "train_dataset, test_dataset = train_test_split(df_train, test_size = 0.3, random_state = SEED)\n",
    "display(train_dataset.groupby(['game']).sum())\n",
    "\n",
    "# dataloader\n",
    "Input_ids, Attention_Masks = tokenization(train_dataset.review_clear.values)\n",
    "Labels = torch.tensor(train_dataset[Labels_list].astype(float).values).to(device)\n",
    "train_loader = DataLoader(dataset = TensorDataset(Input_ids, Attention_Masks, Labels), batch_size  = batch_size, shuffle = True)\n",
    "\n",
    "# model, loss function and optimizer\n",
    "bert = BertClassifier(num_class).to(device)\n",
    "for param in bert.bert.parameters():\n",
    "    param.requires_grad = True\n",
    "criterion = nn.CrossEntropyLoss()\n",
    "optimizer = torch.optim.Adam(bert.parameters(), lr = learning_rate)\n",
    "\n",
    "# model training\n",
    "bert.train()\n",
    "total_steps, loss_list = len(train_loader), []\n",
    "# epoch loop\n",
    "for epoch in range(num_epochs):\n",
    "    clear_output(wait = True)\n",
    "    epoch_loss = 0\n",
    "\n",
    "    # batch iteration\n",
    "    for step, batch in enumerate(train_loader):\n",
    "        print(f'Epoch [{epoch+1}/{num_epochs}] Iteration [{step}]')\n",
    "        clear_output(wait = True)\n",
    "        \n",
    "        # forward pass\n",
    "        ids, mask, labels = batch\n",
    "        output = bert(ids, mask)\n",
    "        loss = criterion(output, labels)\n",
    "        \n",
    "        # record loss and accuaracy\n",
    "        epoch_loss += loss\n",
    "        \n",
    "        #release memory\n",
    "        del ids, mask, labels\n",
    "        torch.cuda.empty_cache()\n",
    "        \n",
    "        # backward and optimize\n",
    "        loss.backward()\n",
    "        optimizer.step()\n",
    "        optimizer.zero_grad()\n",
    "       \n",
    "    print(f'Epoch [{epoch+1}/{num_epochs}], Loss: {epoch_loss/(step+1)}')\n",
    "    loss_list.append(epoch_loss/(step+1))"
   ]
  },
  {
   "cell_type": "code",
   "execution_count": 7,
   "id": "bd2bd76b",
   "metadata": {},
   "outputs": [
    {
     "name": "stdout",
     "output_type": "stream",
     "text": [
      "The smallest loss: 0.05841593793686481\n"
     ]
    },
    {
     "data": {
      "image/png": "[encoded data removed]",
      "text/plain": [
       "<Figure size 500x200 with 1 Axes>"
      ]
     },
     "metadata": {},
     "output_type": "display_data"
    }
   ],
   "source": [
    "print(f'The smallest loss: {min(loss_list)}')\n",
    "fig = plt.figure()\n",
    "plt.style.use('seaborn-whitegrid') \n",
    "plt.plot(range(1,len(loss_list)+1),[float(x.cpu().detach()) for x in loss_list],c = \"mediumpurple\",linewidth = 5.0) \n",
    "plt.xlabel(\"Epoch\", fontweight = \"bold\", fontsize = 12)                        \n",
    "fig.set_size_inches(5, 2) \n",
    "plt.title('Loss')\n",
    "plt.show()"
   ]
  },
  {
   "cell_type": "markdown",
   "id": "dcde5f72",
   "metadata": {},
   "source": [
    "- Inference"
   ]
  },
  {
   "cell_type": "code",
   "execution_count": 8,
   "id": "fb1281e9",
   "metadata": {},
   "outputs": [
    {
     "data": {
      "text/html": [
       "<div>\n",
       "<style scoped>\n",
       "    .dataframe tbody tr th:only-of-type {\n",
       "        vertical-align: middle;\n",
       "    }\n",
       "\n",
       "    .dataframe tbody tr th {\n",
       "        vertical-align: top;\n",
       "    }\n",
       "\n",
       "    .dataframe thead th {\n",
       "        text-align: right;\n",
       "    }\n",
       "</style>\n",
       "<table border=\"1\" class=\"dataframe\">\n",
       "  <thead>\n",
       "    <tr style=\"text-align: right;\">\n",
       "      <th></th>\n",
       "      <th>Not helpful</th>\n",
       "      <th>Suggestion</th>\n",
       "      <th>Pro</th>\n",
       "      <th>Con</th>\n",
       "      <th>Bug</th>\n",
       "    </tr>\n",
       "    <tr>\n",
       "      <th>game</th>\n",
       "      <th></th>\n",
       "      <th></th>\n",
       "      <th></th>\n",
       "      <th></th>\n",
       "      <th></th>\n",
       "    </tr>\n",
       "  </thead>\n",
       "  <tbody>\n",
       "    <tr>\n",
       "      <th>Brotato</th>\n",
       "      <td>9</td>\n",
       "      <td>11</td>\n",
       "      <td>12</td>\n",
       "      <td>0</td>\n",
       "      <td>0</td>\n",
       "    </tr>\n",
       "    <tr>\n",
       "      <th>Cult of the Lamb</th>\n",
       "      <td>10</td>\n",
       "      <td>3</td>\n",
       "      <td>10</td>\n",
       "      <td>3</td>\n",
       "      <td>5</td>\n",
       "    </tr>\n",
       "    <tr>\n",
       "      <th>Mount &amp; Blade 2 - Bannerlord</th>\n",
       "      <td>16</td>\n",
       "      <td>15</td>\n",
       "      <td>8</td>\n",
       "      <td>6</td>\n",
       "      <td>7</td>\n",
       "    </tr>\n",
       "    <tr>\n",
       "      <th>Teardown</th>\n",
       "      <td>11</td>\n",
       "      <td>7</td>\n",
       "      <td>6</td>\n",
       "      <td>4</td>\n",
       "      <td>6</td>\n",
       "    </tr>\n",
       "    <tr>\n",
       "      <th>Warhammer 40,000 - Darktide</th>\n",
       "      <td>6</td>\n",
       "      <td>6</td>\n",
       "      <td>4</td>\n",
       "      <td>23</td>\n",
       "      <td>22</td>\n",
       "    </tr>\n",
       "  </tbody>\n",
       "</table>\n",
       "</div>"
      ],
      "text/plain": [
       "                              Not helpful  Suggestion  Pro  Con  Bug\n",
       "game                                                                \n",
       "Brotato                                 9          11   12    0    0\n",
       "Cult of the Lamb                       10           3   10    3    5\n",
       "Mount & Blade 2 - Bannerlord           16          15    8    6    7\n",
       "Teardown                               11           7    6    4    6\n",
       "Warhammer 40,000 - Darktide             6           6    4   23   22"
      ]
     },
     "metadata": {},
     "output_type": "display_data"
    },
    {
     "name": "stdout",
     "output_type": "stream",
     "text": [
      "\n",
      "------ Not helpful ------\n",
      "Number of real/prediction: 52.0 / 45.0\n",
      "Accuracy: 0.8904761904761904\n",
      "Precision: 0.8222222222222222\n",
      "Recall: 0.7115384615384616\n",
      "F1 score: 0.7628865979381444\n",
      "[[ 37   8]\n",
      " [ 15 150]]\n",
      "\n",
      "------ Suggestion ------\n",
      "Number of real/prediction: 42.0 / 52.0\n",
      "Accuracy: 0.8761904761904762\n",
      "Precision: 0.6538461538461539\n",
      "Recall: 0.8095238095238095\n",
      "F1 score: 0.7234042553191489\n",
      "[[ 34  18]\n",
      " [  8 150]]\n",
      "\n",
      "------ Pro ------\n",
      "Number of real/prediction: 40.0 / 37.0\n",
      "Accuracy: 0.861904761904762\n",
      "Precision: 0.6486486486486487\n",
      "Recall: 0.6\n",
      "F1 score: 0.6233766233766234\n",
      "[[ 24  13]\n",
      " [ 16 157]]\n",
      "\n",
      "------ Con ------\n",
      "Number of real/prediction: 36.0 / 28.0\n",
      "Accuracy: 0.8761904761904762\n",
      "Precision: 0.6785714285714286\n",
      "Recall: 0.5277777777777778\n",
      "F1 score: 0.5937499999999999\n",
      "[[ 19   9]\n",
      " [ 17 165]]\n",
      "\n",
      "------ Bug ------\n",
      "Number of real/prediction: 40.0 / 48.0\n",
      "Accuracy: 0.9238095238095239\n",
      "Precision: 0.75\n",
      "Recall: 0.9\n",
      "F1 score: 0.8181818181818182\n",
      "[[ 36  12]\n",
      " [  4 158]]\n"
     ]
    }
   ],
   "source": [
    "def CONFUSION_MATRIX(arr_true, arr_pred):\n",
    "    TP, FP, FN, TN = 0, 0, 0, 0\n",
    "    for i in range(arr_true.shape[0]):\n",
    "        if 1 == arr_true[i] != arr_pred[i]:\n",
    "            FN += 1\n",
    "        elif 0 == arr_true[i] != arr_pred[i]:\n",
    "            FP += 1\n",
    "        elif arr_true[i]==arr_pred[i]==0:\n",
    "            TN += 1\n",
    "        else:\n",
    "            TP += 1\n",
    "    return np.array([[TP,FP],[FN,TN]])\n",
    "\n",
    "# the validation dataset\n",
    "df_valid = test_dataset[['game']+Labels_list]\n",
    "display(df_valid.groupby(['game']).sum())\n",
    "\n",
    "# dataloader\n",
    "Input_ids, Attention_Masks = tokenization(test_dataset.review_clear.values)\n",
    "test_loader = DataLoader(dataset = TensorDataset(Input_ids, Attention_Masks), batch_size  = batch_size)\n",
    "\n",
    "# evaluation\n",
    "bert.eval()\n",
    "test_predict_list= []\n",
    "softmax = nn.Softmax(dim = 1)\n",
    "with torch.no_grad():\n",
    "    for step, batch in enumerate(test_loader):\n",
    "        ids, mask = batch\n",
    "        test_predict_list += softmax(bert(ids, mask)).cpu().detach().numpy().tolist()\n",
    "\n",
    "mat = np.array(test_predict_list)\n",
    "pred = np.zeros(mat.shape)  # our zeros and ones will go here\n",
    "pred[np.arange(mat.shape[0]), np.argmax(mat, axis = 1)] = 1\n",
    "actu = test_dataset[Labels_list].astype(float).values\n",
    "\n",
    "# result\n",
    "for i in range(len(Labels_list)):\n",
    "    print(f\"\\n------ {Labels_list[i]} ------\")\n",
    "    print(f\"Number of real/prediction: {actu[:,i].sum()} / {pred[:,i].sum()}\")\n",
    "    print(\"Accuracy:\", accuracy_score(actu[:,i], pred[:,i]))\n",
    "    print(\"Precision:\", precision_score(actu[:,i], pred[:,i]))\n",
    "    print(\"Recall:\", recall_score(actu[:,i], pred[:,i]))\n",
    "    print(\"F1 score:\", f1_score(actu[:,i], pred[:,i]))\n",
    "    print(CONFUSION_MATRIX(actu[:,i],pred[:,i]))"
   ]
  },
  {
   "cell_type": "code",
   "execution_count": 9,
   "id": "c4fc0a3b",
   "metadata": {},
   "outputs": [
    {
     "name": "stdout",
     "output_type": "stream",
     "text": [
      "The Overall Accuracy: 0.7142857142857143\n"
     ]
    },
    {
     "data": {
      "image/png": "[encoded data removed]",
      "text/plain": [
       "<Figure size 640x480 with 1 Axes>"
      ]
     },
     "metadata": {},
     "output_type": "display_data"
    }
   ],
   "source": [
    "# Confusion Matrix\n",
    "print('The Overall Accuracy: ', end = '')\n",
    "print(np.trace(confusion_matrix(np.argmax(actu, axis = 1), np.argmax(mat, axis = 1)))/df_valid.shape[0])\n",
    "attributes = Labels_list\n",
    "df = pd.DataFrame(confusion_matrix(np.argmax(mat, axis = 1), np.argmax(actu, axis = 1)), columns=attributes, index=attributes)\n",
    "fig, ax = plt.subplots()\n",
    "im = ax.imshow(df)\n",
    "ax.set_xticks(np.arange(len(df.columns)))\n",
    "ax.set_xticklabels(df.columns)\n",
    "plt.setp(ax.get_xticklabels(), rotation = 45, ha = \"right\", rotation_mode = \"anchor\")\n",
    "ax.set_yticks(np.arange(len(df.index)))\n",
    "ax.set_yticklabels(df.index)\n",
    "for i in range(len(df.columns)):\n",
    "    for j in range(len(df.index)):\n",
    "        text = ax.text(j, i, df.iloc[i, j], ha = \"center\", va = \"center\", color = \"brown\")\n",
    "ax.set_title(\"Confusion Matrix\")\n",
    "plt.show()"
   ]
  }
 ],
 "metadata": {
  "kernelspec": {
   "display_name": "Python 3 (ipykernel)",
   "language": "python",
   "name": "python3"
  },
  "language_info": {
   "codemirror_mode": {
    "name": "ipython",
    "version": 3
   },
   "file_extension": ".py",
   "mimetype": "text/x-python",
   "name": "python",
   "nbconvert_exporter": "python",
   "pygments_lexer": "ipython3",
   "version": "3.8.13"
  },
  "vscode": {
   "interpreter": {
    "hash": "73eba8690cfbc73746c909001b3c14158df08c70569551f888a72447c65a5f1c"
   }
  }
 },
 "nbformat": 4,
 "nbformat_minor": 5
}
