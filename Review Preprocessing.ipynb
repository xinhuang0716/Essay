{
 "cells": [
  {
   "cell_type": "code",
   "execution_count": 5,
   "metadata": {},
   "outputs": [],
   "source": [
    "# 載入所需套件\n",
    "import requests, numpy as np, pandas as pd, re\n",
    "from IPython.display import clear_output\n",
    "import os, datetime"
   ]
  },
  {
   "cell_type": "code",
   "execution_count": null,
   "metadata": {},
   "outputs": [],
   "source": [
    "# Game Information\n",
    "df_indie = pd.read_excel('Game_info.xlsx')[['Indie_id','Indie_name','Indie_release']]\n",
    "def string2date(string):\n",
    "    month_dict = {'Jan':1, 'Feb':2, 'Mar':3, 'Apr':4\n",
    "                 ,'May':5, 'Jun':6, 'Jul':7, 'Aug':8\n",
    "                 ,'Sep':9, 'Oct':10, 'Nov':11, 'Dec':12}\n",
    "    'Oct 25, 2022'\n",
    "    month = month_dict[string.split(' ')[0]]\n",
    "    day = int(string.split(' ')[1][:-1])\n",
    "    year = int(string.split(' ')[2])\n",
    "    return datetime.date(year, month, day)\n",
    "df_indie['Indie_release'] = df_indie['Indie_release'].apply(lambda x : string2date(x))"
   ]
  },
  {
   "cell_type": "code",
   "execution_count": null,
   "metadata": {},
   "outputs": [],
   "source": [
    "# Data Preprocessing\n",
    "for index, row in df_indie.iterrows():\n",
    "    if index > 20:\n",
    "        break\n",
    "    # Read Reviews\n",
    "    game_id = row['Indie_id']\n",
    "    if game_id in [1332010, 1794680, 648800]:\n",
    "        continue\n",
    "    df = pd.read_csv(f'data\\\\{game_id}.csv')\n",
    "    df = df[df.review.str.contains('張貼於：2022 年')]\n",
    "\n",
    "    # retrieve date\n",
    "    pattern_date = r'張貼於：([0-9]+) 年 ([0-9]+) 月 ([0-9]+) 日'\n",
    "    df['year'] = df['review'].apply(lambda x : re.search(pattern_date, x).group(1)).astype(int)\n",
    "    df['month'] = df['review'].apply(lambda x : re.search(pattern_date, x).group(2)).astype(int)\n",
    "    df['day'] = df['review'].apply(lambda x : re.search(pattern_date, x).group(3)).astype(int)\n",
    "    df['date'] = df.apply(lambda x : datetime.date(x['year'], x['month'], x['day']), axis=1)\n",
    "\n",
    "    # retrieve helpful vote\n",
    "    def helpful_extraction(text):\n",
    "        pattern_help = r'([0-9]+) 個人認為這篇評論值得參考'\n",
    "        try:\n",
    "            return re.search(pattern_help, text).group(1)\n",
    "        except:\n",
    "            return 0\n",
    "    df['helpful_votes'] = df['helpful'].apply(lambda x : helpful_extraction(x)).astype(int)\n",
    "\n",
    "    # retrieve review\n",
    "    def review_sub(text):\n",
    "        text = re.sub(r'張貼於：([0-9]+) 年 ([0-9]+) 月 ([0-9]+) 日', '', text)\n",
    "        text = re.sub(r'(\\D+)評論', '', text)\n",
    "        text = re.sub(r'\\n', '', text)\n",
    "        text = re.sub(r'\\t', '', text)\n",
    "        text = re.sub(r'產品已退款', '', text)\n",
    "        text = re.sub(r'免費獲得的產品', '', text)\n",
    "        return text.strip()\n",
    "    df['review_clear'] = df['review'].apply(lambda x : review_sub(x)).astype(str)\n",
    "\n",
    "    # filter early access review\n",
    "    df = df[df['date'] >= row['Indie_release']]\n",
    "\n",
    "    # export \n",
    "    df.drop(['review', 'helpful', 'year', 'month', 'day'], axis = 1, inplace = True)\n",
    "    df.to_csv(f'data_cleaned\\\\{game_id}_cleaned.csv', index = False)"
   ]
  },
  {
   "cell_type": "code",
   "execution_count": null,
   "metadata": {},
   "outputs": [],
   "source": [
    "# Statisitcs\n",
    "for index, row in df_indie.iterrows():\n",
    "    if row['Indie_id'] in [1332010, 1794680, 648800]:\n",
    "        continue\n",
    "    print(index, row['Indie_id'], row['Indie_name'])\n",
    "    game_id, game_name = row['Indie_id'], row['Indie_name']\n",
    "    df = pd.read_csv(f'data_cleaned\\\\{game_id}_cleaned.csv')\n",
    "    df['date'] = pd.to_datetime(df['date']).dt.date\n",
    "    df = df[df['date'] <= (row['Indie_release'] + datetime.timedelta(days = 30))]\n",
    "    df.to_excel(f'{game_id}.xlsx', index = False)\n",
    "    print('reviews:', df.shape[0])\n",
    "    print('length:',df['review_clear'].apply(lambda x : len(str(x))).mean())\n",
    "    print('helpful votes:', df['helpful_votes'].mean())\n",
    "    print('---')\n",
    "    if index >= 19:\n",
    "        break"
   ]
  }
 ],
 "metadata": {
  "kernelspec": {
   "display_name": "base",
   "language": "python",
   "name": "python3"
  },
  "language_info": {
   "codemirror_mode": {
    "name": "ipython",
    "version": 3
   },
   "file_extension": ".py",
   "mimetype": "text/x-python",
   "name": "python",
   "nbconvert_exporter": "python",
   "pygments_lexer": "ipython3",
   "version": "3.8.8"
  },
  "orig_nbformat": 4,
  "vscode": {
   "interpreter": {
    "hash": "e371f985153c376007dc1e2b3a0998de8ca4cba473c2daa17f78ffa01549e3ad"
   }
  }
 },
 "nbformat": 4,
 "nbformat_minor": 2
}
